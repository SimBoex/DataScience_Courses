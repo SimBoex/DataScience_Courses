{
  "cells": [
    {
      "cell_type": "markdown",
      "metadata": {
        "id": "_Xuf0Bw1ftV9"
      },
      "source": [
        "# Initial setup\n",
        "Only if you run from Google Colab run those 2 cells to sync with Google Drive."
      ]
    },
    {
      "cell_type": "code",
      "execution_count": null,
      "metadata": {
        "colab": {
          "base_uri": "https://localhost:8080/"
        },
        "id": "vYia_A5fftV-",
        "outputId": "bf854c1e-ab68-48ab-9961-07cd6e1bbb01"
      },
      "outputs": [
        {
          "output_type": "stream",
          "name": "stdout",
          "text": [
            "Mounted at /content/drive\n"
          ]
        }
      ],
      "source": [
        "from google.colab import drive\n",
        "drive.mount('/content/drive', force_remount=True)"
      ]
    },
    {
      "cell_type": "code",
      "execution_count": null,
      "metadata": {
        "colab": {
          "base_uri": "https://localhost:8080/"
        },
        "id": "O9ydDjv0ftWA",
        "outputId": "792598fc-9514-4194-a07c-e3ff7292344f"
      },
      "outputs": [
        {
          "output_type": "stream",
          "name": "stdout",
          "text": [
            "/content/drive/MyDrive/TF4AML\n"
          ]
        }
      ],
      "source": [
        "%cd /content/drive/MyDrive/TF4AML/"
      ]
    },
    {
      "cell_type": "markdown",
      "metadata": {
        "id": "Gco0dDNkMa8p"
      },
      "source": [
        "# The Transformer Architecture\n",
        "\n",
        "This notebook will guide you through the building blocks of the Transformer model, one of the last two years' most influential architecture. The Transformer design has continued to outperform benchmarks since the publication of the Vaswani et al. paper [Attention Is All You Need](https://arxiv.org/abs/1706.03762) in 2017, particularly in the field of natural language processing. Transformers with an enormous number of parameters may generate long, compelling writings, opening up new AI application sectors. It is crucial to understand how the Transformer architecture works and to have developed it yourself, which we will do in this notebook."
      ]
    },
    {
      "cell_type": "code",
      "execution_count": null,
      "metadata": {
        "id": "y3nLcU1iSAey"
      },
      "outputs": [],
      "source": [
        "import torch\n",
        "from torch.nn.functional import softmax\n",
        "import torch.nn as nn\n",
        "from torch.autograd import Variable\n",
        "import torch.nn.functional as F\n",
        "\n",
        "import copy\n",
        "from copy import deepcopy\n",
        "import numpy as np \n",
        "import math\n",
        "import scipy.io\n",
        "import os\n",
        "import random\n",
        "\n",
        "\n",
        "## Imports for plotting\n",
        "import matplotlib.pyplot as plt\n",
        "plt.set_cmap('cividis')\n",
        "%matplotlib inline \n",
        "from IPython.display import set_matplotlib_formats\n",
        "from matplotlib.colors import to_rgb\n",
        "import matplotlib\n",
        "matplotlib.rcParams['lines.linewidth'] = 2.0\n",
        "import seaborn as sns\n",
        "sns.reset_orig()\n",
        "\n",
        "torch.manual_seed(0)\n",
        "torch.cuda.manual_seed(0)\n",
        "np.random.seed(0)\n",
        "random.seed(0)\n",
        "\n",
        "torch.backends.cudnn.deterministic=True\n"
      ]
    },
    {
      "cell_type": "markdown",
      "metadata": {
        "id": "x59dBR-UftWE"
      },
      "source": [
        "### The Attention Mechanism\n",
        "\n",
        "In the last several years, particularly in sequence tasks, a new collection of layers in neural networks known as the attention mechanism has garnered a lot of attention. The attention mechanism defines a weighted average of (sequence) items, with the weights dynamically computed based on an input query and the elements' keys. So what precisely does this mean? The objective is to average out the features of multiple elements. We want to weight the elements according to their actual values rather than giving each equal weight.\n",
        "\n",
        "An attention mechanism, in particular, usually has four components that must be specified:\n",
        "\n",
        "* **Query**: The query is a feature vector that identifies the elements in the sequence that we are searching for, or perhaps want to pay attention to.\n",
        "* **Keys**: We have a key, which is also a feature vector, for each input element. This feature vector essentially explains what the element \"offers\" or when it might be significant. The keys should be created so that, based on the query, we can identify the elements we wish to pay attention to.\n",
        "* **Values**: There is also a value vector available for each input element. Specifically, we want to average over this feature vector.\n",
        "* **Score function**: A scoring function called $f_{attn}$ must be specified in order to rate the items that we want to pay attention to. The query and a key are entered into the score function, which returns the attention weight and score for the query-key pair. It is typically used using straightforward similarity metrics, such as a dot product or a small MLP.\n",
        "\n",
        "A softmax is used to calculate the average's weights across all scoring function outputs. As a result, we give greater weight to value vectors whose corresponding key is most comparable to the query.\n",
        "\n",
        "\n",
        "$$\n",
        "\\alpha_i = \\frac{\\exp\\left(f_{attn}\\left(\\text{key}_i, \\text{query}\\right)\\right)}{\\sum_j \\exp\\left(f_{attn}\\left(\\text{key}_j, \\text{query}\\right)\\right)}, \\hspace{5mm} \\text{out} = \\sum_i \\alpha_i \\cdot \\text{value}_i\n",
        "$$\n",
        "\n",
        "Here is an example of attention over a sequence:\n",
        "\n",
        "<center width=\"100%\" style=\"padding:25px\"><img src=\"https://github.com/phlippe/uvadlc_notebooks/blob/master/docs/tutorial_notebooks/tutorial6/attention_example.svg?raw=1\" width=\"750px\"></center>\n",
        "\n",
        "Every word has a key and a value associated. The score function compares the query to all the keys to compute the weights. The values of the words are averaged by the attention weights. \n",
        "\n",
        "Self-attention is the term for the attention applied inside the Transformer architecture. Each sequence element in self-attention gives a key, value, and query. We execute an attention layer for each element, which checks the similarity of the keys of all the sequence members based on the element's query and returns a unique, averaged value vector for each element. "
      ]
    },
    {
      "cell_type": "markdown",
      "metadata": {
        "id": "HRircL-SftWF"
      },
      "source": [
        "### Scaled Dot Product Attention  (***1 POINT***)\n",
        "\n",
        "Scaled dot product attention is the central idea of self-attention. Our objective is to develop an attention mechanism that allows each element in a sequence to pay attention to any other while maintaining compute efficiency.The input to the dot product are the queries $Q\\in\\mathbb{R}^{T\\times d_k}$, keys $K\\in\\mathbb{R}^{T\\times d_k}$ and values $V\\in\\mathbb{R}^{T\\times d_v}$ with $T$ as the sequence length, $d_k$ and $d_v$ are the hidden dimensionality for $Q$, $K$ and $V$.\n",
        "\n",
        "We compute the dot product attention as follows:\n",
        "\n",
        "$$\\text{Attention}(Q,K,V)=\\text{softmax}\\left(\\frac{QK^T}{\\sqrt{d_k}}\\right)V$$\n",
        "\n",
        "The matrix multiplication $QK^T$ produces a matrix with dimension $T\\times T$ by doing the dot product for every distinct pair of queries and keys. The attention logits for a particular element $i$ to every other element in the sequence are shown in each row. We use a softmax on these and multiply by the value vector to get a weighted mean (the weights being determined by the attention). The computation graph below provides another viewpoint on this attention technique.\n",
        "\n",
        "<center width=\"100%\"><img src=\"https://github.com/phlippe/uvadlc_notebooks/blob/master/docs/tutorial_notebooks/tutorial6/scaled_dot_product_attn.svg?raw=1\" width=\"210px\"></center>\n",
        "\n",
        "$1/\\sqrt{d_k}$, the scaling factor, is crucial to maintain an appropriate variance of attention values after initialization. As a result, $Q$ and $K$ may also have a variance of close to $1$. Keep in mind that we initialize our layers with the purpose of having equal variance across the model. Dot products over two vectors with variances $\\sigma^2$, however, produce scalars with $d_k$-times larger variance: \n",
        "\n",
        "$$q_i \\sim \\mathcal{N}(0,\\sigma^2), k_i \\sim \\mathcal{N}(0,\\sigma^2) \\to \\text{Var}\\left(\\sum_{i=1}^{d_k} q_i\\cdot k_i\\right) = \\sigma^4\\cdot d_k$$\n",
        "\n",
        "\n",
        "The optional masking of particular entries in the attention matrix is shown by the block labeled \"Mask (opt.)\" in the diagram above. When calculating the attention values, we pad the sentences to the same length and mask out the padding tokens.\n",
        "\n",
        "---"
      ]
    },
    {
      "cell_type": "markdown",
      "metadata": {
        "id": "7pb72mo3ftWG"
      },
      "source": [
        "Following the description we just made about scale-dot product, complete the Attention class below."
      ]
    },
    {
      "cell_type": "code",
      "execution_count": null,
      "metadata": {
        "id": "ZgYad7IHKEkY"
      },
      "outputs": [],
      "source": [
        "class Attention(nn.Module):\n",
        "    ''' Scaled Dot-Product Attention '''\n",
        "\n",
        "    def __init__(self, attn_dropout=0.1):\n",
        "        super().__init__()\n",
        "        self.dropout = nn.Dropout(attn_dropout)\n",
        "\n",
        "    def forward(self, query, key, value, mask=None):\n",
        "\n",
        "        '''\n",
        "        add here the code regarding the argument of the softmax function as defined above\n",
        "        '''\n",
        "        output = torch.matmul(query, key.mT)\n",
        "        output = output / torch.sqrt(torch.tensor(query.size(dim=-1)))\n",
        "        attn = output\n",
        "        \n",
        "        if mask is not None:\n",
        "            attn = attn.masked_fill(mask == 0, -1e9)\n",
        "            \n",
        "        attn = self.dropout(F.softmax(attn, dim=-1))\n",
        "        \n",
        "        '''\n",
        "        Computed attn, calculate the final output of the attention layer\n",
        "        '''\n",
        "        output = torch.matmul(attn, value)\n",
        "\n",
        "        return output, attn\n"
      ]
    },
    {
      "cell_type": "markdown",
      "metadata": {
        "id": "KjPYD5CNKEkZ"
      },
      "source": [
        "Do not modify the code below. \n",
        "\n",
        "The following example about the Attention function you just implemented does not include the mask, which instead will be used later in the MultiHeadAttention class. "
      ]
    },
    {
      "cell_type": "markdown",
      "metadata": {
        "id": "Prhn6ccyftWJ"
      },
      "source": [
        "We generate here some random $Q$ $K$ and $V$ to procude some attention outputs."
      ]
    },
    {
      "cell_type": "code",
      "execution_count": null,
      "metadata": {
        "colab": {
          "base_uri": "https://localhost:8080/"
        },
        "id": "PuV0ZKfKKEkZ",
        "outputId": "181912e6-16a9-486a-8639-8466a4acd0d8"
      },
      "outputs": [
        {
          "output_type": "stream",
          "name": "stdout",
          "text": [
            "Q\n",
            " tensor([[ 1.5410, -0.2934],\n",
            "        [-2.1788,  0.5684],\n",
            "        [-1.0845, -1.3986]])\n",
            "K\n",
            " tensor([[ 0.4033,  0.8380],\n",
            "        [-0.7193, -0.4033],\n",
            "        [-0.5966,  0.1820]])\n",
            "V\n",
            " tensor([[-0.8567,  1.1006],\n",
            "        [-1.0712,  0.1227],\n",
            "        [-0.5663,  0.3731]])\n",
            "Values\n",
            " tensor([[-0.9328,  0.8123],\n",
            "        [-0.9093,  0.3966],\n",
            "        [-0.9970,  0.3056]])\n",
            "Attention\n",
            " tensor([[0.6291, 0.2395, 0.2425],\n",
            "        [0.1387, 0.4749, 0.4975],\n",
            "        [0.0842, 0.6800, 0.3469]])\n"
          ]
        }
      ],
      "source": [
        "torch.manual_seed(0)\n",
        "\n",
        "seq_len, d_k = 3, 2\n",
        "q = torch.randn(seq_len, d_k)\n",
        "k = torch.randn(seq_len, d_k)\n",
        "v = torch.randn(seq_len, d_k)\n",
        "attention = Attention()\n",
        "values, attn = attention(q, k, v)\n",
        "print(\"Q\\n\", q)\n",
        "print(\"K\\n\", k)\n",
        "print(\"V\\n\", v)\n",
        "print(\"Values\\n\", values)\n",
        "print(\"Attention\\n\", attn)"
      ]
    },
    {
      "cell_type": "markdown",
      "metadata": {
        "id": "PDF0S2kPftWM"
      },
      "source": [
        "### Multi-Head Attention  (***2 POINTS***)\n",
        "\n",
        "A network can pay attention to a sequence thanks to scaled dot product attention. A single weighted average, however, is not a viable choice for a sequence element because it frequently wishes to pay attention to several separate characteristics. For this reason, we expand the attention methods to include numerous heads, or several query-key-value triplets on the same features. We specifically change a query, key, and value matrix into $h$ sub-queries, sub-keys, and sub-values, which we then independently pass through the scaled dot product attention. The heads are then combined with a final weight matrix by concatenating them. \n",
        "\n",
        "$$\n",
        "\\begin{split}\n",
        "    \\text{Multihead}(Q,K,V) & = \\text{Concat}(\\text{head}_1,...,\\text{head}_h)W^{O}\\\\\n",
        "    \\text{where } \\text{head}_i & = \\text{Attention}(QW_i^Q,KW_i^K, VW_i^V)\n",
        "\\end{split}\n",
        "$$\n",
        "\n",
        "We refer to this as Multi-Head Attention layer. We can visually see it here:\n",
        "\n",
        "<center width=\"100%\"><img src=\"https://github.com/phlippe/uvadlc_notebooks/blob/master/docs/tutorial_notebooks/tutorial6/multihead_attention.svg?raw=1\" width=\"230px\"></center>\n",
        "\n",
        "Set the feature map, $X\\in\\mathbb{R}^{B\\times T\\times d_{\\text{model}}}$, as $Q$, $K$ and $V$ (with $B$ as the batch size, $T$ the sequence length, $d_{\\text{model}}$ the hidden dimensionality of $X$). The weights $W^{Q}$, $W^{K}$, and $W^{V}$ can transform $X$ to the corresponding queries, keys, and values of the input. The final result is produced by multiplying the concatenated output by the weight matrix $W^{0}$\n",
        "\n",
        "---"
      ]
    },
    {
      "cell_type": "markdown",
      "metadata": {
        "id": "L-tkbuLxftWM"
      },
      "source": [
        "Complete the MultiHeadAttention class below."
      ]
    },
    {
      "cell_type": "code",
      "execution_count": null,
      "metadata": {
        "id": "8WSV9VDnftWN"
      },
      "outputs": [],
      "source": [
        "class MultiHeadAttention(nn.Module):\n",
        "\n",
        "    def __init__(self, num_heads, d_model, dropout=0.1):\n",
        "        \"\"\"\n",
        "        Take in model size and number of heads.\n",
        "        \"\"\"\n",
        "        super(MultiHeadAttention, self).__init__()\n",
        "        assert d_model % num_heads == 0\n",
        "        #  We assume d_v always equals d_k\n",
        "        self.d_k = d_model // num_heads\n",
        "        self.num_heads = num_heads\n",
        "        self.query_ff = nn.Linear(d_model, d_model)\n",
        "        self.key_ff = nn.Linear(d_model, d_model)\n",
        "        self.value_ff = nn.Linear(d_model, d_model)\n",
        "        self.attn_ff = nn.Linear(d_model, d_model)\n",
        "        self.attn = None\n",
        "        self.dropout = nn.Dropout(p=dropout)\n",
        "        self.attention = Attention(attn_dropout=dropout)\n",
        "\n",
        "    def forward(self, query, key, value, mask=None, return_attention=False):\n",
        "\n",
        "        if mask is not None:\n",
        "            # Same mask applied to all h heads.\n",
        "            mask = mask.unsqueeze(1)\n",
        "        nbatches = query.size(0)\n",
        "        \n",
        "        # 1) Do all the linear projections in batch from d_model => h x d_k. \n",
        "        # The query is given as example, you should do the same for key and value  \n",
        "        query = self.query_ff(query).view(nbatches, -1, self.num_heads, self.d_k).transpose(1, 2)\n",
        "        '''\n",
        "        add your code here\n",
        "        '''\n",
        "        key = self.key_ff(key).view(nbatches, -1, self.num_heads, self.d_k).transpose(1, 2)\n",
        "        value = self.value_ff(value).view(nbatches, -1, self.num_heads, self.d_k).transpose(1, 2)\n",
        "\n",
        "        # 2) Apply attention on all the projected vectors in batch.\n",
        "        '''\n",
        "        add your code here\n",
        "        '''   \n",
        "        x, self.attn = self.attention(query, key, value, mask)\n",
        "        \n",
        "        # 3) \"Concat\" using a view and apply a final linear.\n",
        "        x = x.transpose(1, 2).contiguous().view(nbatches, -1, self.num_heads * self.d_k)\n",
        "\n",
        "        if return_attention:\n",
        "            return self.attn_ff(x), self.attn\n",
        "\n",
        "        return self.attn_ff(x)\n"
      ]
    },
    {
      "cell_type": "markdown",
      "metadata": {
        "id": "qMhot1leftWO"
      },
      "source": [
        "Do not change the following code."
      ]
    },
    {
      "cell_type": "code",
      "execution_count": null,
      "metadata": {
        "colab": {
          "base_uri": "https://localhost:8080/"
        },
        "id": "Zbq-oi_dftWO",
        "outputId": "de1fd6da-d2e8-4da8-8ff5-ccc0000f9b1a"
      },
      "outputs": [
        {
          "output_type": "execute_result",
          "data": {
            "text/plain": [
              "tensor([[[ 0.2365, -0.1411,  0.0168,  ..., -0.2253,  0.1767,  0.2225],\n",
              "         [ 0.1931, -0.0895,  0.0500,  ..., -0.2019,  0.1098,  0.2202],\n",
              "         [ 0.2050, -0.1029, -0.0381,  ..., -0.1815,  0.1637,  0.2313],\n",
              "         ...,\n",
              "         [ 0.1796, -0.1051,  0.0153,  ..., -0.1890,  0.0949,  0.2301],\n",
              "         [ 0.2132, -0.1249,  0.0418,  ..., -0.2321,  0.1163,  0.2321],\n",
              "         [ 0.1697, -0.0129,  0.0232,  ..., -0.1104,  0.1187,  0.1810]]],\n",
              "       grad_fn=<ViewBackward0>)"
            ]
          },
          "metadata": {},
          "execution_count": 7
        }
      ],
      "source": [
        "torch.manual_seed(0)\n",
        "np.random.seed(0)\n",
        "\n",
        "num_heads = 8\n",
        "d_model = 512\n",
        "\n",
        "\n",
        "self_attn = MultiHeadAttention(num_heads, d_model)\n",
        "\n",
        "\n",
        "x = torch.tensor(np.random.rand(1, 7,512)).float()\n",
        "\n",
        "attn_out = self_attn(x, x, x)\n",
        "attn_out"
      ]
    },
    {
      "cell_type": "markdown",
      "metadata": {
        "id": "Qbgl0PIMftWP"
      },
      "source": [
        "The fact that the multi-head attention is permutation-equivariant with respect to its inputs is an important aspect of the framework. This means that if we switch the first and second items of the input sequence, the output will still be precisely the same. As a result, the multi-head attention really considers the input as a collection of items rather than a sequence. This characteristic is what makes the Transformer architecture and the multi-head attention block so potent and versatile."
      ]
    },
    {
      "cell_type": "markdown",
      "metadata": {
        "id": "qSqlyyhdftWP"
      },
      "source": [
        "### The Encoder-Decoder Blocks (4 POINTS)\n",
        "\n",
        "The paper's original transformer is a neural machine translation model. We could teach it to translate a sentence, for instance, into French. Encoder-decoder architecture is used by the transformer. An input sentence is processed by the encoder to extract features, which are then used by the decoder to create an output sentence (translation). The full Transformer architecture looks as follows (figure credit - [Vaswani et al., 2017](https://arxiv.org/abs/1706.03762)).:\n",
        "\n",
        "<center width=\"100%\"><img src=\"https://github.com/phlippe/uvadlc_notebooks/blob/master/docs/tutorial_notebooks/tutorial6/transformer_architecture.svg?raw=1\" width=\"400px\"></center>\n",
        "\n",
        "Let's examine the Encoder block in more depth. The Decoder is easy to use once you comprehend this.\n",
        "\n",
        "The encoder is made up by $N$ sequentially applied identical blocks. Using $x$ as the input, a Multi-Head Attention block is first applied. Using a residual connection, the output is added to the original input, and the sum is then subjected to a subsequent layer normalization. Formally, it computes:\n",
        "\n",
        " $\\text{LayerNorm}(x+\\text{Multihead}(x,x,x))$ ($x$ being $Q$, $K$ and $V$ input to the attention layer). \n",
        " \n",
        "To enable a smooth gradient flow across the model, the residual connections are essential. Furthermore, the information about the original sequence is lost in the absence of residual connections.\n",
        "\n",
        "Faster training is made possible by the layer normalization, which also offers minor regularization. Additionally, it makes sure that each element in the sequence has features that are of a similar magnitude.\n",
        "\n",
        "A small fully connected feed-forward network is also included to the model in addition to the Multi-Head Attention, and it is applied to each position individually and identically. One way to describe the complete transformation, including the residual connection, is as follows:\n",
        "\n",
        "$$\n",
        "\\begin{split}\n",
        "    \\text{FFN}(x) & = \\max(0, xW_1+b_1)W_2 + b_2\\\\\n",
        "    x & = \\text{LayerNorm}(x + \\text{FFN}(x))\n",
        "\\end{split}\n",
        "$$\n",
        "\n",
        "In addition to the layers we just discussed, a dropout layer is added in the MLP, on the output of the MLP and Multi-Head Attention as regularization. \n",
        "\n",
        "Regarding the masking in the decoder block, the target mask is needed since the transformer decoder has all the target tokens as input during training. However, it should produce output related to what happened before the current timestep, and that's why the target mask is introduced. \n",
        "\n",
        "Knowing what the target mask is used for, you should now be able to add it in the correct attention of the decoder. (hint: the two masks are used separately and there is no need to change them.) \n"
      ]
    },
    {
      "cell_type": "markdown",
      "metadata": {
        "id": "EXSo-cL1ftWQ"
      },
      "source": [
        "Add your solution to the EncoderBlock and DecoderBlock classes."
      ]
    },
    {
      "cell_type": "code",
      "execution_count": null,
      "metadata": {
        "id": "MrvKOgvWftWQ"
      },
      "outputs": [],
      "source": [
        "class EncoderBlock(nn.Module):\n",
        "\n",
        "    def __init__(self, input_dim, num_heads, dim_feedforward, dropout=0.0):\n",
        "        \"\"\"\n",
        "        Inputs:\n",
        "            input_dim - Dimensionality of the input\n",
        "            num_heads - Number of heads to use in the attention block\n",
        "            dim_feedforward - Dimensionality of the hidden layer in the MLP\n",
        "            dropout - Dropout probability to use in the dropout layers\n",
        "        \"\"\"\n",
        "        super().__init__()\n",
        "\n",
        "        # Attention layer\n",
        "        self.self_attn = MultiHeadAttention(num_heads, input_dim)\n",
        "\n",
        "        # Two-layer MLP\n",
        "        self.linear_net = nn.Sequential(\n",
        "            nn.Linear(input_dim, dim_feedforward),\n",
        "            nn.Dropout(dropout),\n",
        "            nn.ReLU(inplace=True),\n",
        "            nn.Linear(dim_feedforward, input_dim)\n",
        "        )\n",
        "\n",
        "        # Layers to apply in between the main layers\n",
        "        self.norm1 = nn.LayerNorm(input_dim)\n",
        "        self.norm2 = nn.LayerNorm(input_dim)\n",
        "        self.dropout = nn.Dropout(dropout)\n",
        "\n",
        "    def forward(self, x, mask=None): \n",
        "        # Self_attention part (use self.norm1)\n",
        "        '''\n",
        "        Add your code here\n",
        "        '''\n",
        "        _x = self.self_attn(x, x, x, mask)\n",
        "        x = self.norm1(x + self.dropout(_x))\n",
        "        \n",
        "        # MLP part (use self.norm2)\n",
        "        '''\n",
        "        Add your code here\n",
        "        '''\n",
        "        _x = self.linear_net(x)\n",
        "        x = self.norm2(x + self.dropout(_x))\n",
        "        \n",
        "\n",
        "        return x\n"
      ]
    },
    {
      "cell_type": "code",
      "execution_count": null,
      "metadata": {
        "id": "kqYzcCzwftWR"
      },
      "outputs": [],
      "source": [
        "class DecoderBlock(nn.Module):\n",
        "\n",
        "    def __init__(self, input_dim, num_heads, dim_feedforward, dropout=0.0):\n",
        "        \"\"\"\n",
        "        Inputs:\n",
        "            input_dim - Dimensionality of the input\n",
        "            num_heads - Number of heads to use in the attention block\n",
        "            dim_feedforward - Dimensionality of the hidden layer in the MLP\n",
        "            dropout - Dropout probability to use in the dropout layers\n",
        "        \"\"\"\n",
        "        super().__init__()\n",
        "\n",
        "        # Self Attention layer\n",
        "        self.self_attn = MultiHeadAttention(num_heads, input_dim)\n",
        "        # Attention Layer\n",
        "        self.src_attn = MultiHeadAttention(num_heads, input_dim)\n",
        "        \n",
        "        # Two-layer MLP\n",
        "        self.linear_net = nn.Sequential(\n",
        "            nn.Linear(input_dim, dim_feedforward),\n",
        "            nn.Dropout(dropout),\n",
        "            nn.ReLU(inplace=True),\n",
        "            nn.Linear(dim_feedforward, input_dim)\n",
        "        )\n",
        "\n",
        "        # Layers to apply in between the main layers\n",
        "        self.norm1 = nn.LayerNorm(input_dim)\n",
        "        self.norm2 = nn.LayerNorm(input_dim)\n",
        "        self.norm3 = nn.LayerNorm(input_dim)\n",
        "        self.dropout = nn.Dropout(dropout)\n",
        "\n",
        "    def forward(self, x, memory, src_mask, tgt_mask): \n",
        "        # Self-Attention part (use self.norm1)\n",
        "        '''\n",
        "        Add your code here\n",
        "        '''\n",
        "        _x = self.self_attn(x, x, x, tgt_mask)\n",
        "        x = self.norm1(x + self.dropout(_x))\n",
        "\n",
        "        # Attention part (use self.norm2)\n",
        "        # Recall that memory is the output of the encoder and replaces x as\n",
        "        # the key and value in the attention layer\n",
        "        '''\n",
        "        Add your code here\n",
        "        '''\n",
        "        _x = self.src_attn(x, memory, memory, src_mask)\n",
        "        x = self.norm2(x + self.dropout(_x))\n",
        "        \n",
        "        # MLP part (use self.norm3)\n",
        "        '''\n",
        "        Add your code here\n",
        "        '''\n",
        "        _x = self.linear_net(x)\n",
        "        x = self.norm3(x + self.dropout(_x))\n",
        "        #Linear\n",
        "        #Softmax\n",
        "        \n",
        "        return x\n"
      ]
    },
    {
      "cell_type": "markdown",
      "metadata": {
        "id": "cCcd7ktGftWS"
      },
      "source": [
        "### Positional Encoding  (***2 POINTS***)\n",
        "\n",
        "Position is crucial for deciphering the input words in activities like language understanding. Therefore, the input characteristics can be used to add the positional information. Even if we learned an embedding for every possible place, this wouldn't apply to input sequence lengths with dynamic input. Therefore, using feature patterns that the network can recognize from the features and maybe generalize to longer sequences is a better alternative.\n",
        "\n",
        "Following the solution of Vaswani et al., the positional encoding is defined as: \n",
        "\n",
        "$$\n",
        "PE_{(pos,i)} = \\begin{cases}\n",
        "    \\sin\\left(\\frac{pos}{10000^{i/d_{\\text{model}}}}\\right) & \\text{if}\\hspace{3mm} i \\text{ mod } 2=0\\\\\n",
        "    \\cos\\left(\\frac{pos}{10000^{(i-1)/d_{\\text{model}}}}\\right) & \\text{otherwise}\\\\\n",
        "\\end{cases}\n",
        "$$\n",
        "\n",
        "$PE_{(pos,i)}$ represents the position encoding at position $pos$ in the sequence, and hidden dimensionality $i$. The position information is made up of these values, which are added to the initial input features and concatenated for all hidden dimensions.\n",
        "\n",
        "Complete the initialization of the PositionalEncoding class."
      ]
    },
    {
      "cell_type": "code",
      "execution_count": null,
      "metadata": {
        "id": "wK9ueR5gKEkb"
      },
      "outputs": [],
      "source": [
        "class PositionalEncoding(nn.Module):\n",
        "    \"\"\"\n",
        "    Implement the PE function.\n",
        "    \"\"\"\n",
        "\n",
        "    def __init__(self, d_model, dropout, max_len=5000):\n",
        "        super(PositionalEncoding, self).__init__()\n",
        "        self.dropout = nn.Dropout(p=dropout)\n",
        "\n",
        "        # Compute the positional encodings once in log space.\n",
        "        pe = torch.zeros(max_len, d_model)\n",
        "        '''\n",
        "        #not vectorized version\n",
        "        \n",
        "        for pos in range(max_len):\n",
        "          for i in range(d_model):\n",
        "            if i%2==0:\n",
        "              pe[pos,i] = math.sin(pos / (10000 ** (i / d_model)))\n",
        "            else:\n",
        "              pe[pos,i] = math.cos(pos / (10000 ** ((i-1) / d_model)))\n",
        "        pe = pe.unsqueeze(0) # the final dimension is (1, max_len, d_model)\n",
        "        self.register_buffer('pe', pe)\n",
        "\n",
        "        '''\n",
        "\n",
        "        #vectorized version\n",
        "        \n",
        "        positions_matrix=torch.tensor([i for i in range(max_len)]).expand(d_model,-1).T \n",
        "        indexes=torch.arange(0,d_model,1)\n",
        "        \n",
        "        #indexes_matrix=torch.where(indexes%2==0,1/10000**(indexes/d_model),1/10000**((indexes-1)/d_model)).repeat(max_len,1) #without log transform\n",
        "        indexes_matrix=torch.where(indexes%2==0, torch.exp(-math.log(10000)/d_model*indexes),torch.exp(-math.log(10000)/d_model*(indexes-1))).repeat(max_len,1) #with log transform\n",
        "      \n",
        "        pe[:,0::2]=torch.sin(torch.mul(positions_matrix[:,0::2],indexes_matrix[:,0::2])) # multiply element wise the matrix of positions with the one with indexes w.r.t to even indexes\n",
        "        pe[:,1::2]=torch.cos(torch.mul(positions_matrix[:,1::2],indexes_matrix[:,1::2])) #multiply element wise the matrix of positions with the one with indexes w.r.t to odd indexes\n",
        "\n",
        "       \n",
        "\n",
        "        pe = pe.unsqueeze(0) # the final dimension is (1, max_len, d_model)\n",
        "        self.register_buffer('pe', pe)\n",
        "\n",
        "\n",
        "    def forward(self, x):\n",
        "        x = x + Variable(self.pe[:, :x.size(1)], requires_grad=False)\n",
        "        return self.dropout(x)\n"
      ]
    },
    {
      "cell_type": "markdown",
      "metadata": {
        "id": "KVGi5FZoKEkb"
      },
      "source": [
        "We may display the positional encoding below to better comprehend it. We will create a sequence-based image of the positional encoding over concealed dimensions. As a result, each pixel indicates the modification of the input feature that we do in order to encode a certain position. Here's how to do it:"
      ]
    },
    {
      "cell_type": "code",
      "execution_count": null,
      "metadata": {
        "colab": {
          "base_uri": "https://localhost:8080/",
          "height": 241
        },
        "id": "ey8R8ei5KEkb",
        "outputId": "cedce565-f2af-4bc0-eece-29238bf751e0"
      },
      "outputs": [
        {
          "output_type": "display_data",
          "data": {
            "text/plain": [
              "<Figure size 576x216 with 2 Axes>"
            ],
            "image/png": "[encoded data removed]"
          },
          "metadata": {
            "needs_background": "light"
          }
        }
      ],
      "source": [
        "encod_block = PositionalEncoding(d_model=48, dropout=0.1, max_len=96)\n",
        "pe = encod_block.pe.squeeze().T.cpu().numpy()\n",
        "\n",
        "fig, ax = plt.subplots(nrows=1, ncols=1, figsize=(8,3))\n",
        "pos = ax.imshow(pe, cmap=\"RdGy\", extent=(1,pe.shape[1]+1,pe.shape[0]+1,1))\n",
        "fig.colorbar(pos, ax=ax)\n",
        "ax.set_xlabel(\"Position in sequence\")\n",
        "ax.set_ylabel(\"Hidden dimension\")\n",
        "ax.set_title(\"Positional encoding over hidden dimensions\")\n",
        "ax.set_xticks([1]+[i*10 for i in range(1,1+pe.shape[1]//10)])\n",
        "ax.set_yticks([1]+[i*10 for i in range(1,1+pe.shape[0]//10)])\n",
        "plt.show()"
      ]
    },
    {
      "cell_type": "markdown",
      "metadata": {
        "id": "1-OhCmxYKEkb"
      },
      "source": [
        "The sine and cosine waves with various wavelengths that encode the position in the hidden dimensions are easily visible. To better understand the pattern, we can examine the sine/cosine wave for each hidden dimension separately. The positional encoding for the hidden dimensions is shown in the image below."
      ]
    },
    {
      "cell_type": "code",
      "execution_count": null,
      "metadata": {
        "colab": {
          "base_uri": "https://localhost:8080/",
          "height": 298
        },
        "id": "FnLQ-p4-KEkb",
        "outputId": "a6f4908c-e01e-4f58-98b4-62c102e3866b"
      },
      "outputs": [
        {
          "output_type": "display_data",
          "data": {
            "text/plain": [
              "<Figure size 864x288 with 4 Axes>"
            ],
            "image/png": "[encoded data removed]"
          },
          "metadata": {}
        }
      ],
      "source": [
        "sns.set_theme()\n",
        "fig, ax = plt.subplots(2, 2, figsize=(12,4))\n",
        "ax = [a for a_list in ax for a in a_list]\n",
        "for i in range(len(ax)):\n",
        "    ax[i].plot(np.arange(1,17), pe[i,:16], color=f'C{i}', marker=\"o\", markersize=6, markeredgecolor=\"black\")\n",
        "    ax[i].set_title(f\"Encoding in hidden dimension {i+1}\")\n",
        "    ax[i].set_xlabel(\"Position in sequence\", fontsize=10)\n",
        "    ax[i].set_ylabel(\"Positional encoding\", fontsize=10)\n",
        "    ax[i].set_xticks(np.arange(1,17))\n",
        "    ax[i].tick_params(axis='both', which='major', labelsize=10)\n",
        "    ax[i].tick_params(axis='both', which='minor', labelsize=8)\n",
        "    ax[i].set_ylim(-1.2, 1.2)\n",
        "fig.subplots_adjust(hspace=0.8)\n",
        "sns.reset_orig()\n",
        "plt.show()"
      ]
    },
    {
      "cell_type": "markdown",
      "metadata": {
        "id": "r8qkxXK-ftWU"
      },
      "source": [
        "### Transformer Network  (***2 POINTS***)\n",
        "Everything we've talked about up to this point is summarized in the class Transformer below. In this case, initial input processing positional encoding and the encoder-decoder blocks are all necessary for you to formulate your answer."
      ]
    },
    {
      "cell_type": "code",
      "execution_count": null,
      "metadata": {
        "id": "bDbo5vytftWU"
      },
      "outputs": [],
      "source": [
        "class Transformer(nn.Module):\n",
        "    def __init__(self, enc_inp_size, dec_inp_size, dec_out_size, N=6,\n",
        "                   d_model=512, dim_feedforward=2048, num_heads=8, dropout=0.1,\n",
        "                   mean=[0,0],std=[0,0]):\n",
        "        super(Transformer, self).__init__()\n",
        "        \n",
        "        self.d_model = d_model\n",
        "        self.num_heads = num_heads\n",
        "        self.dim_feedforward = dim_feedforward\n",
        "        self.dropout = dropout\n",
        "        self.N = N\n",
        "        self.mean = mean\n",
        "        self.std = std\n",
        "        self.enc_inp_size = enc_inp_size\n",
        "        self.dec_inp_size = dec_inp_size\n",
        "        self.dec_out_size = dec_out_size\n",
        "        \n",
        "        self.encoder = nn.ModuleList([deepcopy(\n",
        "            EncoderBlock(d_model, num_heads, dim_feedforward, dropout)) for _ in range(N)])\n",
        "        self.decoder = nn.ModuleList([deepcopy(\n",
        "            DecoderBlock(d_model, num_heads, dim_feedforward, dropout)) for _ in range(N)])\n",
        "        self.pos_enc = PositionalEncoding(d_model, dropout)\n",
        "        self.pos_dec = PositionalEncoding(d_model, dropout)\n",
        "        self.src_embed = nn.Linear(enc_inp_size, d_model)\n",
        "        self.tgt_embed = nn.Linear(dec_inp_size, d_model)\n",
        "        self.out = nn.Linear(d_model, dec_out_size)\n",
        "        \n",
        "        self.init_weights()\n",
        "\n",
        "\n",
        "    def forward(self, src, trg, src_mask, trg_mask):\n",
        "        \n",
        "        # First part of the forward pass: embedding and positional encoding \n",
        "        # for both the source and target\n",
        "        '''\n",
        "        Add here your code\n",
        "        '''\n",
        "        src = self.src_embed(src)\n",
        "        src = self.pos_enc(src)\n",
        "        trg = self.tgt_embed(trg)\n",
        "        trg = self.pos_dec(trg)\n",
        "\n",
        "        # Second part of the forward pass: the encoder and decoder layers. \n",
        "        # Look at the arguments of the forward pass of the encoder and decoder \n",
        "        # and recall that the encoder output is used as the memory in the decoder.\n",
        "        '''\n",
        "        Add here your code\n",
        "        '''\n",
        "        \n",
        "        for encoder in self.encoder:\n",
        "          src = encoder(src, src_mask)\n",
        "        for decoder in self.decoder:\n",
        "          trg = decoder(trg, src, src_mask, trg_mask)\n",
        "        output = self.out(trg)\n",
        "\n",
        "\n",
        "        return output\n",
        "    \n",
        "    \n",
        "    # Initialize parameters with Glorot / fan_avg. \n",
        "    def init_weights(self):\n",
        "        for p in self.encoder.parameters():\n",
        "            if p.dim() > 1: nn.init.xavier_uniform_(p)\n",
        "        for p in self.decoder.parameters():\n",
        "            if p.dim() > 1: nn.init.xavier_uniform_(p)\n",
        "        for p in self.pos_enc.parameters():\n",
        "            if p.dim() > 1: nn.init.xavier_uniform_(p)\n",
        "        for p in self.pos_dec.parameters():\n",
        "            if p.dim() > 1: nn.init.xavier_uniform_(p)\n",
        "        for p in self.src_embed.parameters():\n",
        "            if p.dim() > 1: nn.init.xavier_uniform_(p)\n",
        "        for p in self.tgt_embed.parameters():\n",
        "            if p.dim() > 1: nn.init.xavier_uniform_(p)\n",
        "        for p in self.out.parameters():\n",
        "            if p.dim() > 1: nn.init.xavier_uniform_(p)\n",
        "\n"
      ]
    },
    {
      "cell_type": "markdown",
      "metadata": {
        "id": "MMLUfuNEftWV"
      },
      "source": [
        "### Optimizer  (***1 POINT***)\n",
        "\n",
        "Here we select same **optimizer** proposed into original Transformer paper. \n",
        "\n",
        "It uses some initial warmup epochs, where the learning rate is increased. Then it slowly decreases according to a number of epoch and the chosen embedding size. The resulting formula is:\n",
        "\n",
        "LR = $\\frac{F}{\\sqrt{D}} min( \\frac{1}{\\sqrt{epoch}},\\ epoch \\cdot W^{-\\frac{3}{2}}) $\n",
        "\n",
        "where F is a scaling factor, D is the model embedding size, W is the number of warmup epochs."
      ]
    },
    {
      "cell_type": "code",
      "execution_count": null,
      "metadata": {
        "id": "6kbnP33vKEkc"
      },
      "outputs": [],
      "source": [
        "class SqrtScheduler(torch.optim.lr_scheduler._LRScheduler):\n",
        "    \n",
        "    def __init__(self, optimizer, factor, model_size, warmup, max_iters):\n",
        "        self.warmup = warmup\n",
        "        self.max_num_iters = max_iters\n",
        "        self.factor = factor\n",
        "        self.model_size = model_size\n",
        "        super().__init__(optimizer)\n",
        "        \n",
        "    def get_lr(self):\n",
        "        lr_factor = self.get_lr_factor(epoch=self.last_epoch+1)\n",
        "        return [base_lr + lr_factor for base_lr in self.base_lrs]\n",
        "    \n",
        "    def get_lr_factor(self, epoch):\n",
        "        '''\n",
        "        Add here your code\n",
        "        '''\n",
        "        lr_factor = (self.factor / math.sqrt(self.model_size)) * min(1/math.sqrt(epoch), epoch * (self.warmup ** (-3/2)))\n",
        "        return lr_factor"
      ]
    },
    {
      "cell_type": "code",
      "execution_count": null,
      "metadata": {
        "colab": {
          "base_uri": "https://localhost:8080/",
          "height": 246
        },
        "id": "IjGdp7OSKEkc",
        "outputId": "6166c250-e637-4b4d-beeb-03e2c1bb45cf"
      },
      "outputs": [
        {
          "output_type": "display_data",
          "data": {
            "text/plain": [
              "<Figure size 576x216 with 1 Axes>"
            ],
            "image/png": "[encoded data removed]"
          },
          "metadata": {}
        }
      ],
      "source": [
        "# Needed for initializing the lr scheduler\n",
        "p = nn.Parameter(torch.empty(4,4))\n",
        "optimizer = torch.optim.Adam([p], lr=0)\n",
        "\n",
        "lr_scheduler = SqrtScheduler(optimizer=optimizer, factor = 1.0, model_size = 512, warmup=10, max_iters=2000)\n",
        "\n",
        "# Plotting\n",
        "epochs = list(range(2000))\n",
        "sns.set()\n",
        "plt.figure(figsize=(8,3))\n",
        "plt.plot(epochs, [lr_scheduler.get_lr_factor(e+1) for e in epochs])\n",
        "plt.ylabel(\"Learning rate factor\")\n",
        "plt.xlabel(\"Iterations (in batches)\")\n",
        "plt.title(\"Cosine Warm-up Learning Rate Scheduler\")\n",
        "plt.show()\n",
        "sns.reset_orig()"
      ]
    },
    {
      "cell_type": "markdown",
      "metadata": {
        "id": "W_SAayLwftWY"
      },
      "source": [
        "The code below is used as a sanity check to verify the good implementation of your code. Do not change what follows."
      ]
    },
    {
      "cell_type": "code",
      "execution_count": null,
      "metadata": {
        "colab": {
          "base_uri": "https://localhost:8080/"
        },
        "id": "7sRYZc-SftWY",
        "outputId": "45a8b583-89be-45bd-dcfe-ee7f8a224dfb"
      },
      "outputs": [
        {
          "output_type": "stream",
          "name": "stdout",
          "text": [
            "Current device: cuda - Type: Tesla T4\n"
          ]
        }
      ],
      "source": [
        "# Select GPU device for the training if available\n",
        "if not torch.cuda.is_available():\n",
        "    device=torch.device(\"cpu\")\n",
        "    print(\"Current device:\", device)\n",
        "else:\n",
        "    device=torch.device(\"cuda\")\n",
        "    print(\"Current device:\", device, \"- Type:\", torch.cuda.get_device_name(0))\n",
        "\n",
        "\n",
        "enc_input_size = 2\n",
        "dec_input_size = 3\n",
        "dec_output_size = 3\n",
        "\n",
        "\n",
        "num_heads = 8\n",
        "d_model = 512\n",
        "dim_feedforward = 2048\n",
        "dropout = 0.1\n",
        "preds_num = 8\n",
        "\n",
        "def subsequent_mask(size):\n",
        "    \"\"\"\n",
        "    Mask out subsequent positions.\n",
        "    \"\"\"\n",
        "    attn_shape = (1, size, size)\n",
        "    mask = np.triu(np.ones(attn_shape), k=1).astype('uint8')\n",
        "    return torch.from_numpy(mask) == 0\n",
        "\n",
        "torch.manual_seed(0)\n",
        "tf = Transformer(enc_input_size, dec_input_size, dec_output_size, N=6, \n",
        "            d_model=d_model, dim_feedforward=dim_feedforward, \n",
        "            num_heads=num_heads, dropout=dropout).to(device)"
      ]
    },
    {
      "cell_type": "code",
      "execution_count": null,
      "metadata": {
        "colab": {
          "base_uri": "https://localhost:8080/"
        },
        "id": "Y4g8gNZeftWZ",
        "outputId": "ede21c10-2e3b-4a38-a4c6-05cae060dc3d"
      },
      "outputs": [
        {
          "output_type": "execute_result",
          "data": {
            "text/plain": [
              "tensor([[[1.4025, 0.1318, 2.2073],\n",
              "         [1.4107, 0.1384, 2.2111],\n",
              "         [1.4233, 0.1524, 2.2139],\n",
              "         [1.4406, 0.1682, 2.2192],\n",
              "         [1.4553, 0.1758, 2.2197],\n",
              "         [1.4646, 0.1773, 2.2246],\n",
              "         [1.4616, 0.1686, 2.2236],\n",
              "         [1.4464, 0.1582, 2.2220]]], device='cuda:0', grad_fn=<ViewBackward0>)"
            ]
          },
          "metadata": {},
          "execution_count": 17
        }
      ],
      "source": [
        "np.random.seed(0)\n",
        "\n",
        "batch = torch.tensor(np.random.rand(1, 8,4)).float().to(device)\n",
        "inp = batch[:,1:,0:2].to(device) \n",
        "target = batch[:,:-1,2:].to(device) \n",
        "\n",
        "# We create a third mask channel to append to the 2 speeds. \n",
        "# This helps the decoder differentiating between start of sequence token (with mask token 1) and target speeds (with mask token 0)\n",
        "# Summarizing: start_of_seq token is (0,0) and the mask token is 1 ---> [0, 0, 1]\n",
        "#              target inputs are (u_i, v_i) and the mask token is 0 ---> [u_i, v_i, 0]\n",
        "start_of_seq = torch.Tensor([0, 0, 1]).unsqueeze(0).unsqueeze(1).repeat(target.shape[0], 1, 1).to(device)\n",
        "target_c = torch.zeros((target.shape[0], target.shape[1], 1)).to(device)\n",
        "target = torch.cat((target, target_c), -1)\n",
        "# Final decoder input is the concatenation of them along temporal dimension\n",
        "dec_inp = torch.cat((start_of_seq, target), 1)\n",
        "\n",
        "# Source attention is enabled between all the observed input (mask elements are setted to 1)\n",
        "src_att = torch.ones((inp.shape[0], 1, inp.shape[1])).to(device)\n",
        "# For the target attention we mask future elements to prevent model cheating (corresponding future mask elements are setted to False)\n",
        "# The mask is changed dinamically to use teacher forcing learning\n",
        "trg_att = subsequent_mask(dec_inp.shape[1]).repeat(dec_inp.shape[0], 1, 1).to(device)\n",
        "\n",
        "# Source, target and corresponding attention mask are passed to the model for the forward step\n",
        "tf.eval()\n",
        "pred = tf(inp.float(), dec_inp.float(), src_att, trg_att)\n",
        "pred"
      ]
    },
    {
      "cell_type": "markdown",
      "metadata": {
        "id": "FJy_7I5EftWZ"
      },
      "source": [
        "---\n",
        "\n",
        "This notebook was created by Luca Franco and Alessandro Flaborea."
      ]
    }
  ],
  "metadata": {
    "accelerator": "GPU",
    "colab": {
      "provenance": []
    },
    "kernelspec": {
      "display_name": "Python 3.8.10 64-bit",
      "language": "python",
      "name": "python3"
    },
    "language_info": {
      "codemirror_mode": {
        "name": "ipython",
        "version": 3
      },
      "file_extension": ".py",
      "mimetype": "text/x-python",
      "name": "python",
      "nbconvert_exporter": "python",
      "pygments_lexer": "ipython3",
      "version": "3.8.10"
    },
    "vscode": {
      "interpreter": {
        "hash": "916dbcbb3f70747c44a77c7bcd40155683ae19c65e1c03b4aa3499c5328201f1"
      }
    }
  },
  "nbformat": 4,
  "nbformat_minor": 0
}