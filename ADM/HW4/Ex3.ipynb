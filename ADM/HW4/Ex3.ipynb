{
 "cells": [
  {
   "cell_type": "markdown",
   "id": "397c9170",
   "metadata": {},
   "source": [
    "## 3. Algorithmic questions"
   ]
  },
  {
   "cell_type": "markdown",
   "id": "ca61336e",
   "metadata": {},
   "source": [
    "Given a list of integers **A**, and another fixed integer **s** we need to implement an algorithm that outputs all the possible pairs in **A** whose sum is equal to **s**. \\\n",
    "Let's implement our algorithm to find pairs:"
   ]
  },
  {
   "cell_type": "code",
   "execution_count": 20,
   "id": "e17d75de",
   "metadata": {},
   "outputs": [],
   "source": [
    "def findPairs(A,s):\n",
    "    pairs = []\n",
    "    # we consider each element of the array til the second last\n",
    "    for i in range(len(A)-1):\n",
    "        x = A[i]\n",
    "        # we consider all the elements after the fixed one \n",
    "        for j in range(i,len(A)):\n",
    "            y = A[j]\n",
    "            # we check if:\n",
    "            # -the sum is equal to the value requested\n",
    "            # -the pair is already in our list\n",
    "            if x+y == s and ((x,y) not in pairs and (y,x) not in pairs):\n",
    "                pairs.append((x,y))\n",
    "                \n",
    "    # lastly we print out the result\n",
    "    if len(pairs) > 0:\n",
    "        print(', '.join(map(str, pairs)))\n",
    "    else:\n",
    "        print(\"There isn't any pairs whose sum is equal to\", s)"
   ]
  },
  {
   "cell_type": "code",
   "execution_count": 5,
   "id": "0a41b283",
   "metadata": {},
   "outputs": [
    {
     "name": "stdout",
     "output_type": "stream",
     "text": [
      "(7, -3), (-2, 6), (2, 2), (1, 3)\n"
     ]
    }
   ],
   "source": [
    "A = [7,-2,8,2,6,4,-7,2,1,3,-3]\n",
    "s = 4\n",
    "\n",
    "findPairs(A,s)"
   ]
  },
  {
   "cell_type": "code",
   "execution_count": 23,
   "id": "3f1c91e7",
   "metadata": {},
   "outputs": [
    {
     "name": "stdout",
     "output_type": "stream",
     "text": [
      "There isn't any pairs whose sum is equal to 20\n"
     ]
    }
   ],
   "source": [
    "A = [7,-2,8,2,6,4,-7,2,1,3,-3]\n",
    "s = 20\n",
    "\n",
    "findPairs(A,s)"
   ]
  },
  {
   "cell_type": "code",
   "execution_count": 29,
   "id": "fe9631a4",
   "metadata": {},
   "outputs": [
    {
     "name": "stdout",
     "output_type": "stream",
     "text": [
      "(-1, -3), (-2, -2)\n"
     ]
    }
   ],
   "source": [
    "A = [-1,8,6,-2,-4,-8,5,-3,9,2]\n",
    "s = -4\n",
    "\n",
    "findPairs(A,s)"
   ]
  },
  {
   "cell_type": "code",
   "execution_count": 25,
   "id": "2e36c5f9",
   "metadata": {},
   "outputs": [
    {
     "name": "stdout",
     "output_type": "stream",
     "text": [
      "(2, 2)\n"
     ]
    }
   ],
   "source": [
    "A = [2,2,2,2,2,2,2,2]\n",
    "s = 4\n",
    "\n",
    "findPairs(A,s)"
   ]
  }
 ],
 "metadata": {
  "kernelspec": {
   "display_name": "Python 3 (ipykernel)",
   "language": "python",
   "name": "python3"
  },
  "language_info": {
   "codemirror_mode": {
    "name": "ipython",
    "version": 3
   },
   "file_extension": ".py",
   "mimetype": "text/x-python",
   "name": "python",
   "nbconvert_exporter": "python",
   "pygments_lexer": "ipython3",
   "version": "3.9.7"
  }
 },
 "nbformat": 4,
 "nbformat_minor": 5
}
