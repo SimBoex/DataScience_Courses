{
 "cells": [
  {
   "cell_type": "code",
   "execution_count": 93,
   "id": "8ad47ad0-476b-418a-81e4-894570f7cf10",
   "metadata": {},
   "outputs": [],
   "source": [
    "import numpy as np      \n",
    "import matplotlib.pyplot as plt \n",
    "import scipy.io.wavfile \n",
    "import subprocess\n",
    "import librosa\n",
    "import librosa.display\n",
    "import IPython.display as ipd\n",
    "import random\n",
    "import csv\n",
    "import pickle\n",
    "import os\n",
    "import matplotlib.pyplot as plt\n",
    "\n",
    "from collections import defaultdict\n",
    "from collections import OrderedDict\n",
    "from pathlib import Path, PurePath   \n",
    "from tqdm.notebook import tqdm\n",
    "from collections import Counter\n",
    "from operator import itemgetter"
   ]
  },
  {
   "cell_type": "markdown",
   "id": "68c7d781-ece8-4ad9-959e-f498d8a76666",
   "metadata": {},
   "source": [
    "## Utility functions"
   ]
  },
  {
   "cell_type": "code",
   "execution_count": 14,
   "id": "23224edb-25aa-4415-a86f-19ef3c233b75",
   "metadata": {},
   "outputs": [],
   "source": [
    "def convert_mp3_to_wav(audio:str) -> str:  \n",
    "    \"\"\"Convert an input MP3 audio track into a WAV file.\n",
    "\n",
    "    Args:\n",
    "        audio (str): An input audio track.\n",
    "\n",
    "    Returns:\n",
    "        [str]: WAV filename.\n",
    "    \"\"\"\n",
    "    if audio[-3:] == \"mp3\":\n",
    "        wav_audio = audio[:-3] + \"wav\"\n",
    "        if not Path(wav_audio).exists():\n",
    "                subprocess.check_output(f\"ffmpeg -i {audio} {wav_audio}\", shell=True)\n",
    "        return wav_audio\n",
    "    \n",
    "    return audio\n",
    "\n",
    "def plot_spectrogram_and_picks(track:np.ndarray, sr:int, peaks:np.ndarray, onset_env:np.ndarray) -> None:\n",
    "    \"\"\"[summary]\n",
    "\n",
    "    Args:\n",
    "        track (np.ndarray): A track.\n",
    "        sr (int): Aampling rate.\n",
    "        peaks (np.ndarray): Indices of peaks in the track.\n",
    "        onset_env (np.ndarray): Vector containing the onset strength envelope.\n",
    "    \"\"\"\n",
    "    times = librosa.frames_to_time(np.arange(len(onset_env)),\n",
    "                            sr=sr, hop_length=HOP_SIZE)\n",
    "\n",
    "    plt.figure()\n",
    "    ax = plt.subplot(2, 1, 2)\n",
    "    D = librosa.stft(track)\n",
    "    librosa.display.specshow(librosa.amplitude_to_db(np.abs(D), ref=np.max),\n",
    "                            y_axis='log', x_axis='time')\n",
    "    plt.subplot(2, 1, 1, sharex=ax)\n",
    "    plt.plot(times, onset_env, alpha=0.8, label='Onset strength')\n",
    "    plt.vlines(times[peaks], 0,\n",
    "            onset_env.max(), color='r', alpha=0.8,\n",
    "            label='Selected peaks')\n",
    "    plt.legend(frameon=True, framealpha=0.8)\n",
    "    plt.axis('tight')\n",
    "    plt.tight_layout()\n",
    "    plt.show()\n",
    "\n",
    "def load_audio_picks(audio, duration, hop_size):\n",
    "    \"\"\"[summary]\n",
    "\n",
    "    Args:\n",
    "        audio (string, int, pathlib.Path or file-like object): [description]\n",
    "        duration (int): [description]\n",
    "        hop_size (int): \n",
    "\n",
    "    Returns:\n",
    "        tuple: Returns the audio time series (track) and sampling rate (sr), a vector containing the onset strength envelope\n",
    "        (onset_env), and the indices of peaks in track (peaks).\n",
    "    \"\"\"\n",
    "    try:\n",
    "        track, sr = librosa.load(audio, duration=duration)\n",
    "        onset_env = librosa.onset.onset_strength(track, sr=sr, hop_length=hop_size)\n",
    "        peaks = librosa.util.peak_pick(onset_env, 10, 10, 10, 10, 0.5, 0.5)\n",
    "    except Error as e:\n",
    "        print('An error occurred processing ', str(audio))\n",
    "        print(e)\n",
    "\n",
    "    return track, sr, onset_env, peaks"
   ]
  },
  {
   "cell_type": "markdown",
   "id": "9b1faac1-c07e-45dc-9dd0-7582d95dfdc4",
   "metadata": {
    "tags": []
   },
   "source": [
    "## Settings"
   ]
  },
  {
   "cell_type": "code",
   "execution_count": 15,
   "id": "be1e0e19-443a-4557-a810-fc76146aab4e",
   "metadata": {},
   "outputs": [],
   "source": [
    "N_TRACKS = 1413\n",
    "HOP_SIZE = 512\n",
    "DURATION = 30 # TODO: to be tuned!\n",
    "THRESHOLD = 0 # TODO: to be tuned!"
   ]
  },
  {
   "cell_type": "code",
   "execution_count": 19,
   "id": "b951e3bc-06a6-4b4d-beb9-196ff4734422",
   "metadata": {},
   "outputs": [],
   "source": [
    "data_folder = Path(\"data/mp3s-32k/\")\n",
    "mp3_tracks = data_folder.glob(\"*/*/*.mp3\")\n",
    "tracks = data_folder.glob(\"*/*/*.wav\")"
   ]
  },
  {
   "cell_type": "markdown",
   "id": "0c30631e-43fc-4802-9bb5-13f8e34eae35",
   "metadata": {},
   "source": [
    "## Preprocessing"
   ]
  },
  {
   "cell_type": "code",
   "execution_count": 5,
   "id": "384a028f-bee3-4052-b478-26e702b4d03e",
   "metadata": {},
   "outputs": [
    {
     "data": {
      "application/vnd.jupyter.widget-view+json": {
       "model_id": "3eee9cd14e794c5792c13537c9728dc8",
       "version_major": 2,
       "version_minor": 0
      },
      "text/plain": [
       "  0%|          | 0/1413 [00:00<?, ?it/s]"
      ]
     },
     "metadata": {},
     "output_type": "display_data"
    }
   ],
   "source": [
    "for track in tqdm(mp3_tracks, total=N_TRACKS):\n",
    "    convert_mp3_to_wav(str(track))"
   ]
  },
  {
   "cell_type": "markdown",
   "id": "876e76bf-dce3-4bcb-a240-baed8d3f76a1",
   "metadata": {},
   "source": [
    "## Audio Signals"
   ]
  },
  {
   "cell_type": "code",
   "execution_count": 6,
   "id": "93b92fe5-6e29-49fe-b802-37bdc999da57",
   "metadata": {},
   "outputs": [],
   "source": [
    "#for idx, audio in enumerate(tracks):\n",
    "#    if idx >= 4:\n",
    "#        break\n",
    "#    track, sr, onset_env, peaks = load_audio_picks(audio, DURATION, HOP_SIZE)\n",
    "#    plot_spectrogram_and_picks(track, sr, peaks, onset_env)\n",
    "#    seed = [1,132,48,962,95,88]\n",
    "#    print(minhash(peaks,DURATION,seed[0]))"
   ]
  },
  {
   "cell_type": "code",
   "execution_count": 20,
   "id": "e48129d9",
   "metadata": {},
   "outputs": [
    {
     "data": {
      "application/vnd.jupyter.widget-view+json": {
       "model_id": "cb269c00a86d4030a29437ee1d97ae30",
       "version_major": 2,
       "version_minor": 0
      },
      "text/plain": [
       "  0%|          | 0/1413 [00:00<?, ?it/s]"
      ]
     },
     "metadata": {},
     "output_type": "display_data"
    }
   ],
   "source": [
    "# creating dictionary name song <---> number song\n",
    "num_song = OrderedDict()\n",
    "\n",
    "for idx, audio in tqdm(enumerate(tracks),total = N_TRACKS):\n",
    "    audio = os.path.normpath(audio)\n",
    "    info = audio.split(os.sep)[2:]\n",
    "    info = [x.replace(\"_\", \" \") for x in info]\n",
    "    info[2] = info[2][3:].replace(\".wav\", \"\")\n",
    "    info[0] = info[0].title()\n",
    "        \n",
    "    num_song[idx] = info\n",
    "    \n",
    "with open('data/num_to_song.pkl','wb') as f:\n",
    "    pickle.dump(num_song,f)"
   ]
  },
  {
   "cell_type": "code",
   "execution_count": 21,
   "id": "dc5b01fb-95f0-4b2a-9deb-66a5d6fe9f0f",
   "metadata": {},
   "outputs": [],
   "source": [
    "# creating dictionary id song <---> peaks array\n",
    "def findPeaks(duration):\n",
    "    dict_ = OrderedDict()\n",
    "    data_folder = Path(\"data/mp3s-32k/\")\n",
    "    tracks = data_folder.glob(\"*/*/*.wav\")\n",
    "    \n",
    "    for idx, audio in tqdm(enumerate(tracks),total = N_TRACKS):\n",
    "    \n",
    "        track, sr, onset_env, peaks = load_audio_picks(audio, duration, HOP_SIZE)\n",
    "        dict_[idx] = peaks\n",
    "        \n",
    "    with open('data/peaks/{}_sec.pkl'.format(duration),'wb') as f:\n",
    "        pickle.dump(dict_,f)"
   ]
  },
  {
   "cell_type": "markdown",
   "id": "086a1598-d77d-4dd3-8dae-451e46c23459",
   "metadata": {},
   "source": [
    "## Minhash\n",
    "\n",
    "The minhash function follows not the procedure explained in section 3 of the mmds book but rather revolves around the use of random linear coefficents. We develop a family of hash function by randomly selecting a number of coefficents equal to the number of peaks of the song, do an inner product between the vectors and a modulo operation to bucket the result. This repeated a set amount of times (so a set amount of different hash functions) using the same seeds allows consistency. "
   ]
  },
  {
   "cell_type": "code",
   "execution_count": 81,
   "id": "8bece8e9-f253-4263-818e-049267d9b876",
   "metadata": {},
   "outputs": [],
   "source": [
    "def minhash(peaks,duration,seed):\n",
    "    random.seed(seed)\n",
    "    coeff = random.sample([i for i in range(3000)],len(peaks))\n",
    "    val = sum(np.multiply(coeff,peaks))\n",
    "    bin_ = val%800\n",
    "    return bin_"
   ]
  },
  {
   "cell_type": "code",
   "execution_count": 82,
   "id": "0d855df9-772f-44c9-9e0e-27a81a1f8239",
   "metadata": {},
   "outputs": [],
   "source": [
    "def findBin(duration):\n",
    "    seeds = [21,123,45,87,656]\n",
    "    # for every hash function\n",
    "    for i in range(len(seeds)):\n",
    "        bins = defaultdict(list)\n",
    "\n",
    "        with open('data/peaks/{}_sec.pkl'.format(duration),'rb') as f:\n",
    "            file = pickle.load(f)\n",
    "        # for every song\n",
    "        for k, v in file.items():\n",
    "            bins[minhash(v,duration,seeds[i])].append(k)\n",
    "        # save bin number inside a file for each hash function    \n",
    "        with open('data/bin/duration {} sec/bins_h({}).pkl'.format(duration,i+1),'wb') as f:\n",
    "            pickle.dump(bins,f)\n",
    "        f.close()"
   ]
  },
  {
   "cell_type": "code",
   "execution_count": 83,
   "id": "c26553bf-fdfb-4f14-a135-2e20c4a103e9",
   "metadata": {},
   "outputs": [],
   "source": [
    "def loadBin(duration):\n",
    "    with open('data/bin/duration {} sec/bins_h(1).pkl'.format(duration),'rb') as f:\n",
    "        bins_1 = pickle.load(f)\n",
    "    with open('data/bin/duration {} sec/bins_h(2).pkl'.format(duration),'rb') as f:\n",
    "        bins_2 = pickle.load(f)\n",
    "    with open('data/bin/duration {} sec/bins_h(3).pkl'.format(duration),'rb') as f:\n",
    "        bins_3 = pickle.load(f)\n",
    "    with open('data/bin/duration {} sec/bins_h(4).pkl'.format(duration),'rb') as f:\n",
    "        bins_4 = pickle.load(f)\n",
    "    with open('data/bin/duration {} sec/bins_h(5).pkl'.format(duration),'rb') as f:\n",
    "        bins_5 = pickle.load(f)\n",
    "    \n",
    "    return bins_1, bins_2, bins_3, bins_4, bins_5"
   ]
  },
  {
   "cell_type": "code",
   "execution_count": 97,
   "id": "d49ff588-e354-4790-b397-55d8464f2445",
   "metadata": {},
   "outputs": [],
   "source": [
    "# now that we have the bins, we analyze queries\n",
    "def queryGuess(query,duration,threshold):\n",
    "    q_bin = []\n",
    "    seeds = [21,123,45,87,656]\n",
    "    bins_1, bins_2, bins_3, bins_4, bins_5 = loadBin(duration)\n",
    "    with open('data/num_to_song.pkl','rb') as f:\n",
    "        num_song = pickle.load(f)\n",
    "    # minhash queries    \n",
    "    for i in range(len(seeds)):\n",
    "        track, sr, onset_env, peaks = load_audio_picks(query, duration, HOP_SIZE)\n",
    "        value = minhash(peaks,duration,seeds[i])\n",
    "        q_bin.append(value)\n",
    "    \n",
    "    # songs are chosen in the buckets gathered by the hashing of the query\n",
    "    possible_songs = bins_1[q_bin[0]] + bins_2[q_bin[1]] + bins_3[q_bin[2]] + bins_4[q_bin[3]] + bins_5[q_bin[4]]\n",
    "    possible_songs = Counter(possible_songs)\n",
    "    # here the threshold is implemented for 5 hash functions\n",
    "    guessed_idx = [k for k,v in possible_songs.items() if v>=threshold*5]\n",
    "    guessed_song = itemgetter(*guessed_idx)(num_song)\n",
    "    \n",
    "    return guessed_song"
   ]
  },
  {
   "cell_type": "code",
   "execution_count": 123,
   "id": "de0fd934",
   "metadata": {},
   "outputs": [],
   "source": [
    "def findSong(duration,show,threshold):\n",
    "    if show == True:\n",
    "        print (\"\\033[1m{:<23} {:<25} {:<10}\\033[0m \\n\".format('Title','Album','Band'))\n",
    "    folder = Path(\"data/queries/\")\n",
    "    queries = folder.glob(\"*.wav\")\n",
    "    if not os.path.exists('data/bin/duration {} sec/'.format(duration)):\n",
    "        os.mkdir('data/bin/duration {} sec/'.format(duration))\n",
    "        findPeaks(duration)\n",
    "    findBin(duration)\n",
    "    result = []\n",
    "    for idx, audio in enumerate(queries):\n",
    "        print(\"query #{}--------------------------------------------\".format(idx+1))\n",
    "        song = queryGuess(audio,duration,threshold)\n",
    "        if type(song) == tuple:\n",
    "            result.append(song[2])   \n",
    "            for song_ in song:\n",
    "                if show == True:\n",
    "                    print(\"{:<23} {:<25} {:<10}\".format(song_[2],song_[1],song_[0]) )\n",
    "        elif type(song) == list:\n",
    "            if show == True:\n",
    "                    print(\"{:<23} {:<25} {:<10}\".format(song[2],song[1],song[0]) )\n",
    "            \n",
    "    return result"
   ]
  },
  {
   "cell_type": "markdown",
   "id": "8baff7e0-5eb3-432b-af02-ebcde30741a4",
   "metadata": {},
   "source": [
    "## Query results\n",
    "\n",
    "since the algorithm is so powerful we can show results that appear with a threshold below 1/5 and above it. since only the correct answer turns out in all 5 bins, while the others appear in mostly 1 bin"
   ]
  },
  {
   "cell_type": "code",
   "execution_count": 125,
   "id": "b0b0f397-027f-47cd-a8b3-05f03433ffa1",
   "metadata": {},
   "outputs": [
    {
     "name": "stdout",
     "output_type": "stream",
     "text": [
      "\u001b[1mTitle                   Album                     Band      \u001b[0m \n",
      "\n",
      "query #1--------------------------------------------\n",
      "Dream On                Aerosmith                 Aerosmith \n",
      "query #2--------------------------------------------\n",
      "Black Friday            Katy Lied                 Steely Dan\n",
      "query #3--------------------------------------------\n",
      "I Want To Break Free    The Works                 Queen     \n",
      "query #4--------------------------------------------\n",
      "October                 October                   U2        \n",
      "query #5--------------------------------------------\n",
      "Ob-La-Di Ob-La-Da       The White Album Disc 1    Beatles   \n",
      "query #6--------------------------------------------\n",
      "Karma Police            OK Computer               Radiohead \n",
      "query #7--------------------------------------------\n",
      "Heartbreaker            Led Zeppelin II           Led Zeppelin\n",
      "query #8--------------------------------------------\n",
      "Go Your Own Way         Rumours                   Fleetwood Mac\n",
      "query #9--------------------------------------------\n",
      "American Idiot          American Idiot            Green Day \n",
      "query #10--------------------------------------------\n",
      "Somebody                Some Great Reward         Depeche Mode\n"
     ]
    }
   ],
   "source": [
    "ans = findSong(5, True,0.50)"
   ]
  },
  {
   "cell_type": "code",
   "execution_count": 124,
   "id": "d2f59f79",
   "metadata": {},
   "outputs": [
    {
     "name": "stdout",
     "output_type": "stream",
     "text": [
      "\u001b[1mTitle                   Album                     Band      \u001b[0m \n",
      "\n",
      "query #1--------------------------------------------\n",
      "Dream On                Aerosmith                 Aerosmith \n",
      "Express Yourself        Like A Prayer             Madonna   \n",
      "Dirty Day               Zooropa                   U2        \n",
      "St Jimmy                American Idiot            Green Day \n",
      "Sail Away Sweet Sister  The Game                  Queen     \n",
      "I Might Be Wrong        Amnesiac                  Radiohead \n",
      "Gloria                  October                   U2        \n",
      "Jump In The Fire        Kill Em All               Metallica \n",
      "Joy Of A Toy            Pearls of Passion 1997 Remaster  Roxette   \n",
      "Somebody                Some Great Reward         Depeche Mode\n",
      "Can t Go Back           Mirage                    Fleetwood Mac\n",
      "In This Life            Erotica                   Madonna   \n",
      "My Friend of Misery     Metallica                 Metallica \n",
      "query #2--------------------------------------------\n",
      "I ll Be Back            A Hard Day s Night        Beatles   \n",
      "Over My Head            Fleetwood Mac             Fleetwood Mac\n",
      "Wherever I May Roam     Metallica                 Metallica \n",
      "Black Friday            Katy Lied                 Steely Dan\n",
      "All I Want              Kiss Me Kiss Me Kiss Me   Cure      \n",
      "Stripped                Black Celebration         Depeche Mode\n",
      "American Baby Intro     Stand Up                  Dave Matthews Band\n",
      "People Are People       Some Great Reward         Depeche Mode\n",
      "Original Sinsuality     The Beekeeper             Tori Amos \n",
      "Isn t It Midnight       Tango In The Night        Fleetwood Mac\n",
      "The Snakepit            Kiss Me Kiss Me Kiss Me   Cure      \n",
      "Treasure                Wild Mood Swings          Cure      \n",
      "Through the Never       Metallica                 Metallica \n",
      "query #3--------------------------------------------\n",
      "Can t Buy Me Love       A Hard Day s Night        Beatles   \n",
      "The Morning Papers      The Love Symbol Album     Prince    \n",
      "I Want To Break Free    The Works                 Queen     \n",
      "Neighborhood Girls      Suzanne Vega              Suzanne Vega\n",
      "Cornflake Girl          Under the Pink            Tori Amos \n",
      "I Wanna Know Why        Draw the Line             Aerosmith \n",
      "Club America            Wild Mood Swings          Cure      \n",
      "80                      Kerplunk                  Green Day \n",
      "No Cheap Thrill         Nine Objects Of Desire    Suzanne Vega\n",
      "Halloween               Before These Crowded Streets Dave Matthews Band\n",
      "How To Disappear Completely Kid A                     Radiohead \n",
      "Juarez                  To Venus and Back-Orbiting Tori Amos \n",
      "query #4--------------------------------------------\n",
      "Push                    The Head on the Door      Cure      \n",
      "Can t Go Back           Mirage                    Fleetwood Mac\n",
      "Ride The Lightning      Ride The Lightning        Metallica \n",
      "We Will Rock You 1991 Bonus Remix ruined by Rick Rubin  News Of The World         Queen     \n",
      "October                 October                   U2        \n",
      "Silent All These Years  Little Earthquakes        Tori Amos \n",
      "One Tree Hill           The Joshua Tree           U2        \n",
      "Hey Nineteen            Gaucho                    Steely Dan\n",
      "Behind the Mask         Behind the Mask           Fleetwood Mac\n",
      "query #5--------------------------------------------\n",
      "Ob-La-Di Ob-La-Da       The White Album Disc 1    Beatles   \n",
      "The Chain               Rumours                   Fleetwood Mac\n",
      "Bring It On Home        Led Zeppelin II           Led Zeppelin\n",
      "The Struggle Within     Metallica                 Metallica \n",
      "Delirious               1999                      Prince    \n",
      "Secrets That She Keeps Tits Ass Demo 1986  Pearls of Passion 1997 Remaster  Roxette   \n",
      "You Can t Put Your Arms Around What s Already Gone Have a Nice Day           Roxette   \n",
      "Kyoto Song              The Head on the Door      Cure      \n",
      "Stay Wasting Time       Before These Crowded Streets Dave Matthews Band\n",
      "Something In The Water Does Not Compute  1999                      Prince    \n",
      "Packt Like Sardines In A Crush Amnesiac                  Radiohead \n",
      "Haitian Divorce         The Royal Scam            Steely Dan\n",
      "query #6--------------------------------------------\n",
      "The Old Stuff           Fresh Horses 2000         Garth Brooks\n",
      "Let s Pretend We re Married 1999                      Prince    \n",
      "Karma Police            OK Computer               Radiohead \n",
      "You and I Part II       Tango In The Night        Fleetwood Mac\n",
      "Trapped Under Ice       Ride The Lightning        Metallica \n",
      "Joy Of A Toy            Pearls of Passion 1997 Remaster  Roxette   \n",
      "Blood Sings             99 9 F                    Suzanne Vega\n",
      "You and Whose Army      Amnesiac                  Radiohead \n",
      "query #7--------------------------------------------\n",
      "Heartbreaker            Led Zeppelin II           Led Zeppelin\n",
      "Crash Boom Bang         Crash Boom Bang           Roxette   \n",
      "I Sometimes Wish I Was Dead Speak and Spell           Depeche Mode\n",
      "Let s go crazy          Purple Rain               Prince    \n",
      "The Flow                The Love Symbol Album     Prince    \n",
      "Through With Buzz       Pretzel Logic             Steely Dan\n",
      "Redundant               Nimrod                    Green Day \n",
      "I Wish U Heaven         Lovesexy                  Prince    \n",
      "99 9 F                  99 9 F                    Suzanne Vega\n",
      "query #8--------------------------------------------\n",
      "Go Your Own Way         Rumours                   Fleetwood Mac\n",
      "Deeper and Deeper       Erotica                   Madonna   \n",
      "International Lover     1999                      Prince    \n",
      "Gypsy                   Solitude Standing         Suzanne Vega\n",
      "The Fool On The Hill    Magical Mystery Tour      Beatles   \n",
      "Oh Diane                Mirage                    Fleetwood Mac\n",
      "Cowboys and Angels      Fresh Horses 2000         Garth Brooks\n",
      "Whiplash                Kill Em All               Metallica \n",
      "Priscilla               Songs in Red and Gray     Suzanne Vega\n",
      "Graveyard Train         Bayou Country             Creedence Clearwater Revival\n",
      "Empire State            Mirage                    Fleetwood Mac\n",
      "Dance On                Lovesexy                  Prince    \n",
      "The Refugee             War                       U2        \n",
      "query #9--------------------------------------------\n",
      "And I Love Her          A Hard Day s Night        Beatles   \n",
      "Gypsy                   Mirage                    Fleetwood Mac\n",
      "American Idiot          American Idiot            Green Day \n",
      "Everyone s Gone To The Movies Katy Lied                 Steely Dan\n",
      "Old Dirt Hill Bring That Beat Back  Stand Up                  Dave Matthews Band\n",
      "Mr Right                The Chase                 Garth Brooks\n",
      "Elvis Presley and America The Unforgettable Fire    U2        \n",
      "Satellite               Under The Table And Dreaming Dave Matthews Band\n",
      "Tight Wad Hill          Insomniac                 Green Day \n",
      "D yer Mak er            Houses of the Holy        Led Zeppelin\n",
      "query #10--------------------------------------------\n",
      "Stolen Away On 55th 3rd Stand Up                  Dave Matthews Band\n",
      "Somebody                Some Great Reward         Depeche Mode\n",
      "Bells For Her           Under the Pink            Tori Amos \n",
      "The Night Time Is The Right Time Green River               Creedence Clearwater Revival\n",
      "Fool                    Room Service              Roxette   \n",
      "Dream On                Aerosmith                 Aerosmith \n"
     ]
    }
   ],
   "source": [
    "ans = findSong(5, True,0.19)"
   ]
  },
  {
   "cell_type": "code",
   "execution_count": null,
   "id": "3b460e1c",
   "metadata": {},
   "outputs": [],
   "source": [
    "solution = set(['Dream On', 'Black Friday', 'I Want To Break Free', 'October', 'Ob-La-Di Ob-La-Da', 'Karma Police', 'Heartbreaker',\n",
    "     'Go Your Own Way','American Idiot', 'Somebody'])\n",
    "t = []\n",
    "accuracy = []\n",
    "for i in range(1,21,1):\n",
    "    duration = i/10\n",
    "    t.append(duration)\n",
    "    guess = findSong(duration,False,0.5)\n",
    "    correct = solution.intersection(guess)\n",
    "    accuracy.append(len(correct)*10)"
   ]
  },
  {
   "cell_type": "markdown",
   "id": "ce9f510a-0c04-49b4-b9e8-c181afc6381c",
   "metadata": {},
   "source": [
    "admittedly a bit surprising but the aforementioned procedure gives astounding results as shown in the plot below. Accuracy is at 90% when we let songs play for as little as 1,5 seconds"
   ]
  },
  {
   "cell_type": "code",
   "execution_count": 95,
   "id": "8fd2e996",
   "metadata": {},
   "outputs": [
    {
     "data": {
      "image/png": "[encoded data removed]",
      "text/plain": [
       "<Figure size 720x360 with 1 Axes>"
      ]
     },
     "metadata": {
      "needs_background": "light"
     },
     "output_type": "display_data"
    }
   ],
   "source": [
    "plt.figure(figsize=(10, 5))\n",
    "plt.plot(t,accuracy,'b-o')\n",
    "plt.grid()\n",
    "plt.xlim(0.1, 2)\n",
    "plt.ylim(-2, 102)\n",
    "plt.xlabel('time')\n",
    "plt.ylabel('accuracy')\n",
    "plt.show()"
   ]
  },
  {
   "cell_type": "code",
   "execution_count": null,
   "id": "397eabc3",
   "metadata": {},
   "outputs": [],
   "source": []
  }
 ],
 "metadata": {
  "kernelspec": {
   "display_name": "Laboratorio",
   "language": "python",
   "name": "laboratorio"
  },
  "language_info": {
   "codemirror_mode": {
    "name": "ipython",
    "version": 3
   },
   "file_extension": ".py",
   "mimetype": "text/x-python",
   "name": "python",
   "nbconvert_exporter": "python",
   "pygments_lexer": "ipython3",
   "version": "3.9.2"
  }
 },
 "nbformat": 4,
 "nbformat_minor": 5
}
